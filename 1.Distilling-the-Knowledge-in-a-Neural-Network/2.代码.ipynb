{
 "cells": [
  {
   "cell_type": "code",
   "execution_count": 1,
   "metadata": {},
   "outputs": [],
   "source": [
    "import torch\n",
    "import torch.nn as nn\n",
    "import torch.optim as optim\n",
    "\n",
    "import model\n",
    "import data_loader\n",
    "import train"
   ]
  },
  {
   "cell_type": "code",
   "execution_count": 2,
   "metadata": {},
   "outputs": [],
   "source": [
    "def temperature_softmax(input_tensor, temperature=1.0):\n",
    "    return torch.softmax(input_tensor / temperature, dim=1)\n",
    "\n",
    "\n",
    "def weights_init(m):\n",
    "    if isinstance(m, nn.Linear):\n",
    "        nn.init.xavier_uniform_(m.weight.data)\n",
    "        nn.init.constant_(m.bias.data, 0.0)"
   ]
  },
  {
   "cell_type": "code",
   "execution_count": 3,
   "metadata": {},
   "outputs": [],
   "source": [
    "# load data\n",
    "batch_size = 256\n",
    "train_iter, test_iter = data_loader.load_data_MNIST(batch_size=batch_size)\n",
    "# train_iter, test_iter = data_loader.load_data_fashion_mnist(batch_size=batch_size)"
   ]
  },
  {
   "cell_type": "code",
   "execution_count": 4,
   "metadata": {},
   "outputs": [
    {
     "data": {
      "text/plain": [
       "Student(\n",
       "  (flatten): Flatten(start_dim=1, end_dim=-1)\n",
       "  (linear1): Linear(in_features=784, out_features=1000, bias=True)\n",
       "  (relu): ReLU()\n",
       "  (dropout): Dropout(p=0.3, inplace=False)\n",
       "  (linear2): Linear(in_features=1000, out_features=10, bias=True)\n",
       ")"
      ]
     },
     "execution_count": 4,
     "metadata": {},
     "output_type": "execute_result"
    }
   ],
   "source": [
    "# Define teacher & stduent model, Move models and data to GPU, Initialize weights\n",
    "device = torch.device(\"cuda\" if torch.cuda.is_available() else \"cpu\")\n",
    "teacher = model.TeacherModel().to(device)\n",
    "student = model.Student().to(device)\n",
    "student.apply(weights_init)"
   ]
  },
  {
   "cell_type": "code",
   "execution_count": 5,
   "metadata": {},
   "outputs": [],
   "source": [
    "# Define loss and optimizer\n",
    "criterion_teacher = nn.CrossEntropyLoss()\n",
    "criterion_student = nn.CrossEntropyLoss()\n",
    "optimizer_teacher = optim.RMSprop(teacher.parameters(), lr=1e-4)\n",
    "optimizer_student = optim.SGD(student.parameters(), lr=0.01)"
   ]
  },
  {
   "cell_type": "code",
   "execution_count": 6,
   "metadata": {},
   "outputs": [
    {
     "name": "stdout",
     "output_type": "stream",
     "text": [
      "Epoch 1, loss = 2.03665840067762, test_loss = 1.7900316953659057, accuracy = 0.7306\n",
      "Epoch 2, loss = 1.7965107993876681, test_loss = 1.6787387818098067, accuracy = 0.7965\n",
      "Epoch 3, loss = 1.7082879695486515, test_loss = 1.5990016728639602, accuracy = 0.8751\n",
      "Epoch 4, loss = 1.64574545697963, test_loss = 1.5691695004701613, accuracy = 0.8995\n",
      "Epoch 5, loss = 1.6146515475942733, test_loss = 1.5547476530075073, accuracy = 0.9126\n",
      "Epoch 6, loss = 1.5920708808493107, test_loss = 1.53950754404068, accuracy = 0.9261\n",
      "Epoch 7, loss = 1.5786194182456807, test_loss = 1.5288008540868758, accuracy = 0.9359\n",
      "Epoch 8, loss = 1.568010933348473, test_loss = 1.5239405423402785, accuracy = 0.9387\n",
      "Epoch 9, loss = 1.5592817971046935, test_loss = 1.5202448457479476, accuracy = 0.9428\n",
      "Epoch 10, loss = 1.552722997361041, test_loss = 1.514493039250374, accuracy = 0.9485\n",
      "Epoch 11, loss = 1.5463431064118731, test_loss = 1.5104084849357604, accuracy = 0.9516\n",
      "Epoch 12, loss = 1.5402489657097675, test_loss = 1.5059545248746873, accuracy = 0.9558\n",
      "Epoch 13, loss = 1.536143985707709, test_loss = 1.506987378001213, accuracy = 0.9543\n",
      "Epoch 14, loss = 1.5322298374581844, test_loss = 1.50204556286335, accuracy = 0.9594\n",
      "Epoch 15, loss = 1.5291282643663122, test_loss = 1.5011476755142212, accuracy = 0.9603\n",
      "Epoch 16, loss = 1.5266652350730083, test_loss = 1.4992876440286635, accuracy = 0.9627\n",
      "Epoch 17, loss = 1.523095018305677, test_loss = 1.4978465914726258, accuracy = 0.9637\n",
      "Epoch 18, loss = 1.5222848461029377, test_loss = 1.4957609564065932, accuracy = 0.9656\n",
      "Epoch 19, loss = 1.5195255223740922, test_loss = 1.493687054514885, accuracy = 0.968\n",
      "Epoch 20, loss = 1.5172113809179752, test_loss = 1.4934150189161302, accuracy = 0.968\n",
      "Epoch 21, loss = 1.5155708145588003, test_loss = 1.4912604153156281, accuracy = 0.9711\n",
      "Epoch 22, loss = 1.5135668582104622, test_loss = 1.4906655699014664, accuracy = 0.97\n",
      "Epoch 23, loss = 1.511563841840054, test_loss = 1.4898676931858064, accuracy = 0.9719\n",
      "Epoch 24, loss = 1.5100800615675907, test_loss = 1.489974284172058, accuracy = 0.9719\n",
      "Epoch 25, loss = 1.5098537749432503, test_loss = 1.4884862363338471, accuracy = 0.9727\n",
      "Epoch 26, loss = 1.5082252786514607, test_loss = 1.4879529744386673, accuracy = 0.9731\n",
      "Epoch 27, loss = 1.5072424609610375, test_loss = 1.4872806906700133, accuracy = 0.9741\n",
      "Epoch 28, loss = 1.5051454447685404, test_loss = 1.4867654323577881, accuracy = 0.9749\n",
      "Epoch 29, loss = 1.5050880599529186, test_loss = 1.4865803718566895, accuracy = 0.9748\n",
      "Epoch 30, loss = 1.503717635540252, test_loss = 1.4858328819274902, accuracy = 0.9756\n",
      "Epoch 31, loss = 1.5026914469739223, test_loss = 1.4861426919698715, accuracy = 0.9753\n",
      "Epoch 32, loss = 1.501728734564274, test_loss = 1.4844441890716553, accuracy = 0.9769\n",
      "Epoch 33, loss = 1.5011619613525715, test_loss = 1.485356229543686, accuracy = 0.9758\n",
      "Epoch 34, loss = 1.5006547628565037, test_loss = 1.484997770190239, accuracy = 0.9753\n",
      "Epoch 35, loss = 1.4991699188313585, test_loss = 1.4845337599515915, accuracy = 0.977\n",
      "Epoch 36, loss = 1.4993061796147773, test_loss = 1.482749193906784, accuracy = 0.9783\n",
      "Epoch 37, loss = 1.4985091168829736, test_loss = 1.483133938908577, accuracy = 0.9779\n",
      "Epoch 38, loss = 1.497823827824694, test_loss = 1.4824792206287385, accuracy = 0.9779\n",
      "Epoch 39, loss = 1.4967536246522943, test_loss = 1.4824706256389617, accuracy = 0.9777\n",
      "Epoch 40, loss = 1.49637001626035, test_loss = 1.4814614206552505, accuracy = 0.9795\n",
      "Epoch 41, loss = 1.4955603295184197, test_loss = 1.481243485212326, accuracy = 0.9798\n",
      "Epoch 42, loss = 1.4950357290024454, test_loss = 1.4810394257307054, accuracy = 0.979\n",
      "Epoch 43, loss = 1.495230578868947, test_loss = 1.480813694000244, accuracy = 0.9804\n",
      "Epoch 44, loss = 1.49469255690879, test_loss = 1.4803288608789444, accuracy = 0.9809\n",
      "Epoch 45, loss = 1.4934109510259426, test_loss = 1.4805328994989395, accuracy = 0.9803\n",
      "Epoch 46, loss = 1.4934932592067314, test_loss = 1.4796818554401399, accuracy = 0.9813\n",
      "Epoch 47, loss = 1.4928696449766767, test_loss = 1.479606467485428, accuracy = 0.9812\n",
      "Epoch 48, loss = 1.4916111469268798, test_loss = 1.4787893414497375, accuracy = 0.9821\n",
      "Epoch 49, loss = 1.491981440402092, test_loss = 1.4795074552297591, accuracy = 0.9818\n",
      "Epoch 50, loss = 1.491328697508954, test_loss = 1.4794842094182967, accuracy = 0.982\n"
     ]
    }
   ],
   "source": [
    "train.train_teacher(teacher, optimizer_teacher, criterion_teacher, train_iter, test_iter, device,num_epochs=50)"
   ]
  },
  {
   "cell_type": "code",
   "execution_count": null,
   "metadata": {},
   "outputs": [],
   "source": [
    "train.train_student(student, optimizer_student, criterion_student, train_iter, test_iter, device,num_epochs=50)"
   ]
  },
  {
   "cell_type": "code",
   "execution_count": 8,
   "metadata": {},
   "outputs": [
    {
     "name": "stdout",
     "output_type": "stream",
     "text": [
      "Epoch 1, loss = 2.388189326955917, test_loss = 1.560771644115448, accuracy = 0.9066\n",
      "Epoch 2, loss = 2.3876115596040766, test_loss = 1.5600969284772872, accuracy = 0.9071\n",
      "Epoch 3, loss = 2.3856506317219837, test_loss = 1.559677955508232, accuracy = 0.9069\n",
      "Epoch 4, loss = 2.3843143676189666, test_loss = 1.5591090261936187, accuracy = 0.9078\n",
      "Epoch 5, loss = 2.382295178352518, test_loss = 1.5586395114660263, accuracy = 0.9081\n",
      "Epoch 6, loss = 2.381769061595836, test_loss = 1.5581533402204513, accuracy = 0.909\n",
      "Epoch 7, loss = 2.380413240067502, test_loss = 1.557728934288025, accuracy = 0.9095\n",
      "Epoch 8, loss = 2.3792416521843442, test_loss = 1.5573432177305222, accuracy = 0.9095\n",
      "Epoch 9, loss = 2.377765774219594, test_loss = 1.556966060400009, accuracy = 0.9097\n",
      "Epoch 10, loss = 2.377044689908941, test_loss = 1.5565327137708664, accuracy = 0.9098\n",
      "Epoch 11, loss = 2.3762858106734903, test_loss = 1.555995348095894, accuracy = 0.9105\n",
      "Epoch 12, loss = 2.37478045098325, test_loss = 1.5556483924388886, accuracy = 0.9112\n",
      "Epoch 13, loss = 2.373671055854635, test_loss = 1.5552611261606217, accuracy = 0.9109\n",
      "Epoch 14, loss = 2.37244803753305, test_loss = 1.5548992425203323, accuracy = 0.9114\n",
      "Epoch 15, loss = 2.371830197598072, test_loss = 1.5544824808835984, accuracy = 0.9123\n",
      "Epoch 16, loss = 2.3709288302888263, test_loss = 1.5541230708360672, accuracy = 0.9126\n",
      "Epoch 17, loss = 2.370195269077382, test_loss = 1.5536303102970124, accuracy = 0.9126\n",
      "Epoch 18, loss = 2.369195423734949, test_loss = 1.5533803582191468, accuracy = 0.9129\n",
      "Epoch 19, loss = 2.3684267957159815, test_loss = 1.552944365143776, accuracy = 0.9135\n",
      "Epoch 20, loss = 2.3673912910704917, test_loss = 1.5525987833738326, accuracy = 0.9141\n",
      "Epoch 21, loss = 2.366503703340571, test_loss = 1.5523083090782166, accuracy = 0.9143\n",
      "Epoch 22, loss = 2.365994135876919, test_loss = 1.5520122796297073, accuracy = 0.9146\n",
      "Epoch 23, loss = 2.3647170350906697, test_loss = 1.551666808128357, accuracy = 0.9153\n",
      "Epoch 24, loss = 2.363613470564497, test_loss = 1.5512980818748474, accuracy = 0.915\n",
      "Epoch 25, loss = 2.362832616237884, test_loss = 1.5508847802877426, accuracy = 0.9154\n",
      "Epoch 26, loss = 2.362909209474604, test_loss = 1.5504551857709885, accuracy = 0.9159\n",
      "Epoch 27, loss = 2.361689987588436, test_loss = 1.5502281039953232, accuracy = 0.9159\n",
      "Epoch 28, loss = 2.361101339218464, test_loss = 1.5499288260936737, accuracy = 0.9164\n",
      "Epoch 29, loss = 2.3603592659564727, test_loss = 1.5496280193328857, accuracy = 0.9163\n",
      "Epoch 30, loss = 2.359636428508353, test_loss = 1.5493228882551193, accuracy = 0.917\n",
      "Epoch 31, loss = 2.3583099507270977, test_loss = 1.5489466100931168, accuracy = 0.917\n",
      "Epoch 32, loss = 2.358799409866333, test_loss = 1.5486156910657882, accuracy = 0.9174\n",
      "Epoch 33, loss = 2.357538043691757, test_loss = 1.5485171526670456, accuracy = 0.9178\n",
      "Epoch 34, loss = 2.3569956820061866, test_loss = 1.54827022254467, accuracy = 0.9173\n",
      "Epoch 35, loss = 2.3564905176771447, test_loss = 1.547940093278885, accuracy = 0.9177\n",
      "Epoch 36, loss = 2.3557207046671116, test_loss = 1.5475948244333266, accuracy = 0.9174\n",
      "Epoch 37, loss = 2.355380154670553, test_loss = 1.547341099381447, accuracy = 0.9176\n",
      "Epoch 38, loss = 2.354037159047228, test_loss = 1.5470905005931854, accuracy = 0.918\n",
      "Epoch 39, loss = 2.3533591331319608, test_loss = 1.5467386335134505, accuracy = 0.9192\n",
      "Epoch 40, loss = 2.353173836241377, test_loss = 1.5465042173862458, accuracy = 0.9189\n",
      "Epoch 41, loss = 2.352879623656577, test_loss = 1.5461150527000427, accuracy = 0.9188\n",
      "Epoch 42, loss = 2.3519222918977127, test_loss = 1.5459938019514083, accuracy = 0.919\n",
      "Epoch 43, loss = 2.351077566755579, test_loss = 1.5456882745027543, accuracy = 0.9192\n",
      "Epoch 44, loss = 2.3510442906237663, test_loss = 1.5454974859952926, accuracy = 0.9197\n",
      "Epoch 45, loss = 2.351014497432303, test_loss = 1.5450573682785034, accuracy = 0.9197\n",
      "Epoch 46, loss = 2.349842463148401, test_loss = 1.5448907792568207, accuracy = 0.92\n",
      "Epoch 47, loss = 2.3495630599082786, test_loss = 1.5447400242090226, accuracy = 0.9202\n",
      "Epoch 48, loss = 2.3479930583466877, test_loss = 1.5445229262113571, accuracy = 0.9206\n",
      "Epoch 49, loss = 2.3480980578889237, test_loss = 1.5442205131053925, accuracy = 0.9207\n",
      "Epoch 50, loss = 2.3473558507067094, test_loss = 1.5440022617578506, accuracy = 0.9209\n"
     ]
    }
   ],
   "source": [
    "train.train_distill(teacher, student, optimizer_student, criterion_student, train_iter, test_iter, device, num_epochs=50)"
   ]
  }
 ],
 "metadata": {
  "kernelspec": {
   "display_name": "d2l",
   "language": "python",
   "name": "python3"
  },
  "language_info": {
   "codemirror_mode": {
    "name": "ipython",
    "version": 3
   },
   "file_extension": ".py",
   "mimetype": "text/x-python",
   "name": "python",
   "nbconvert_exporter": "python",
   "pygments_lexer": "ipython3",
   "version": "3.9.17"
  },
  "orig_nbformat": 4
 },
 "nbformat": 4,
 "nbformat_minor": 2
}
