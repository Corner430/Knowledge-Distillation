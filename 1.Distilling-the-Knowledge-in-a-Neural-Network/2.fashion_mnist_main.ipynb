{
 "cells": [
  {
   "cell_type": "code",
   "execution_count": null,
   "metadata": {},
   "outputs": [],
   "source": [
    "import torch\n",
    "import torchvision\n",
    "import torch.nn as nn\n",
    "import torch.optim as optim\n",
    "\n",
    "import model\n",
    "import data_loader\n",
    "import train\n",
    "import evaluate"
   ]
  },
  {
   "cell_type": "code",
   "execution_count": null,
   "metadata": {},
   "outputs": [],
   "source": [
    "def weights_init(m):\n",
    "    if isinstance(m, nn.Linear):\n",
    "        nn.init.xavier_uniform_(m.weight.data)\n",
    "        nn.init.constant_(m.bias.data, 0.0)"
   ]
  },
  {
   "cell_type": "code",
   "execution_count": null,
   "metadata": {},
   "outputs": [],
   "source": [
    "# load data\n",
    "batch_size = 256\n",
    "train_iter, test_iter = data_loader.load_data_fashion_mnist(\n",
    "    batch_size=batch_size, resize=224\n",
    ")"
   ]
  },
  {
   "cell_type": "code",
   "execution_count": null,
   "metadata": {},
   "outputs": [],
   "source": [
    "# Define teacher & stduent model, Move models and data to GPU, Initialize weights\n",
    "device = torch.device(\"cuda\" if torch.cuda.is_available() else \"cpu\")\n",
    "\n",
    "teacher = torchvision.models.resnet18(pretrained=False)\n",
    "teacher.conv1 = nn.Conv2d(1, 64, kernel_size=7, stride=2, padding=3, bias=False)\n",
    "teacher.fc = nn.Linear(512, 10)\n",
    "teacher.load_state_dict(torch.load(\"../models/resnet18_fashion-mnist.pth\"))\n",
    "teacher = teacher.to(device)\n",
    "\n",
    "student = model.Student().to(device)\n",
    "student_distill = model.Student().to(device)\n",
    "student.apply(weights_init)\n",
    "student_distill.apply(weights_init)"
   ]
  },
  {
   "cell_type": "code",
   "execution_count": null,
   "metadata": {},
   "outputs": [],
   "source": [
    "# Define loss and optimizer\n",
    "criterion_student = nn.CrossEntropyLoss()\n",
    "criterion_student_distill = nn.CrossEntropyLoss()\n",
    "optimizer_student = optim.SGD(student.parameters(), lr=0.01)\n",
    "optimizer_student_distill = optim.SGD(student_distill.parameters(), lr=0.07)"
   ]
  },
  {
   "cell_type": "code",
   "execution_count": null,
   "metadata": {},
   "outputs": [],
   "source": [
    "teacher_loss, teacher_acc = evaluate.evaluate(teacher, test_iter, device)\n",
    "print(f\"Test Loss: {teacher_loss}, Acc: {100. * teacher_acc}%\")"
   ]
  },
  {
   "cell_type": "code",
   "execution_count": null,
   "metadata": {},
   "outputs": [],
   "source": [
    "train.train_student(\n",
    "    student, train_iter, test_iter, criterion_student, optimizer_student, device\n",
    ")"
   ]
  },
  {
   "cell_type": "code",
   "execution_count": null,
   "metadata": {},
   "outputs": [],
   "source": [
    "train.train_distill(\n",
    "    teacher,\n",
    "    student_distill,\n",
    "    optimizer_student_distill,\n",
    "    criterion_student_distill,\n",
    "    train_iter,\n",
    "    test_iter,\n",
    "    device,\n",
    ")"
   ]
  }
 ],
 "metadata": {
  "kernelspec": {
   "display_name": "d2l",
   "language": "python",
   "name": "python3"
  },
  "language_info": {
   "codemirror_mode": {
    "name": "ipython",
    "version": 3
   },
   "file_extension": ".py",
   "mimetype": "text/x-python",
   "name": "python",
   "nbconvert_exporter": "python",
   "pygments_lexer": "ipython3",
   "version": "3.9.17"
  },
  "orig_nbformat": 4
 },
 "nbformat": 4,
 "nbformat_minor": 2
}
