{
 "cells": [
  {
   "cell_type": "markdown",
   "metadata": {},
   "source": [
    "### **Online Knowledge Distillation with Diverse Peers**\n",
    "\n",
    "#### **Abstract**\n",
    "\n",
    "- KD 并不总是可用\n",
    "- 最近提出的在线蒸馏可以让学生之间相互学习，并摒弃 teacher network，**问题在于过早的造成了学生之间的相似饱和**\n",
    "- *Online Knowledge Distillation with Diverse peers(OKDDip), which performs two-level distillation during training with multiple auxiliary peers and one group leader.*"
   ]
  }
 ],
 "metadata": {
  "language_info": {
   "name": "python"
  },
  "orig_nbformat": 4
 },
 "nbformat": 4,
 "nbformat_minor": 2
}
