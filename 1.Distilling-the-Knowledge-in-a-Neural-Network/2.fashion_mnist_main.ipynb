{
 "cells": [
  {
   "cell_type": "code",
   "execution_count": 16,
   "metadata": {},
   "outputs": [],
   "source": [
    "import torch\n",
    "import torchvision\n",
    "import torch.nn as nn\n",
    "import torch.optim as optim\n",
    "\n",
    "import model\n",
    "import data_loader\n",
    "import train\n",
    "import evaluate"
   ]
  },
  {
   "cell_type": "code",
   "execution_count": 2,
   "metadata": {},
   "outputs": [],
   "source": [
    "def weights_init(m):\n",
    "    if isinstance(m, nn.Linear):\n",
    "        nn.init.xavier_uniform_(m.weight.data)\n",
    "        nn.init.constant_(m.bias.data, 0.0)"
   ]
  },
  {
   "cell_type": "code",
   "execution_count": 3,
   "metadata": {},
   "outputs": [],
   "source": [
    "# load data\n",
    "batch_size = 256\n",
    "train_iter, test_iter = data_loader.load_data_fashion_mnist(\n",
    "    batch_size=batch_size, resize=224\n",
    ")"
   ]
  },
  {
   "cell_type": "code",
   "execution_count": 4,
   "metadata": {},
   "outputs": [
    {
     "name": "stderr",
     "output_type": "stream",
     "text": [
      "/home/corner/.conda/envs/corner/lib/python3.9/site-packages/torchvision/models/_utils.py:208: UserWarning: The parameter 'pretrained' is deprecated since 0.13 and may be removed in the future, please use 'weights' instead.\n",
      "  warnings.warn(\n",
      "/home/corner/.conda/envs/corner/lib/python3.9/site-packages/torchvision/models/_utils.py:223: UserWarning: Arguments other than a weight enum or `None` for 'weights' are deprecated since 0.13 and may be removed in the future. The current behavior is equivalent to passing `weights=None`.\n",
      "  warnings.warn(msg)\n"
     ]
    },
    {
     "data": {
      "text/plain": [
       "Student(\n",
       "  (flatten): Flatten(start_dim=1, end_dim=-1)\n",
       "  (linear1): Linear(in_features=50176, out_features=1000, bias=True)\n",
       "  (relu): ReLU()\n",
       "  (dropout): Dropout(p=0.3, inplace=False)\n",
       "  (linear2): Linear(in_features=1000, out_features=10, bias=True)\n",
       ")"
      ]
     },
     "execution_count": 4,
     "metadata": {},
     "output_type": "execute_result"
    }
   ],
   "source": [
    "# Define teacher & stduent model, Move models and data to GPU, Initialize weights\n",
    "device = torch.device(\"cuda:1\" if torch.cuda.is_available() else \"cpu\")\n",
    "\n",
    "teacher = torchvision.models.resnet18(pretrained=False)\n",
    "teacher.conv1 = nn.Conv2d(1, 64, kernel_size=7, stride=2, padding=3, bias=False)\n",
    "teacher.fc = nn.Linear(512, 10)\n",
    "teacher.load_state_dict(torch.load(\"../models/resnet18_fashion-mnist.pth\"))\n",
    "teacher = teacher.to(device)\n",
    "\n",
    "student = model.Student().to(device)\n",
    "student_distill = model.Student().to(device)\n",
    "student.apply(weights_init)\n",
    "student_distill.apply(weights_init)"
   ]
  },
  {
   "cell_type": "code",
   "execution_count": 20,
   "metadata": {},
   "outputs": [],
   "source": [
    "# Define loss and optimizer\n",
    "criterion_student = nn.CrossEntropyLoss()\n",
    "criterion_student_distill = nn.CrossEntropyLoss()\n",
    "optimizer_student = optim.SGD(student.parameters(), lr=0.01)\n",
    "optimizer_student_distill = optim.SGD(student_distill.parameters(), lr=0.05)"
   ]
  },
  {
   "cell_type": "code",
   "execution_count": 6,
   "metadata": {},
   "outputs": [
    {
     "name": "stdout",
     "output_type": "stream",
     "text": [
      "Test Loss: 0.18911720365285872, Acc: 93.14453125%\n"
     ]
    }
   ],
   "source": [
    "teacher_loss, teacher_acc = evaluate.evaluate(teacher, test_iter, device)\n",
    "print(f\"Test Loss: {teacher_loss}, Acc: {100. * teacher_acc}%\")"
   ]
  },
  {
   "cell_type": "code",
   "execution_count": 18,
   "metadata": {},
   "outputs": [
    {
     "name": "stdout",
     "output_type": "stream",
     "text": [
      "epoch 1, loss 0.7374, train acc 0.754, test loss 0.5825, test acc 0.792\n",
      "epoch 2, loss 0.4923, train acc 0.829, test loss 0.4965, test acc 0.822\n",
      "epoch 3, loss 0.4392, train acc 0.849, test loss 0.4476, test acc 0.841\n",
      "epoch 4, loss 0.4133, train acc 0.855, test loss 0.4308, test acc 0.850\n",
      "epoch 5, loss 0.3964, train acc 0.861, test loss 0.4151, test acc 0.852\n",
      "epoch 6, loss 0.3786, train acc 0.868, test loss 0.4093, test acc 0.855\n",
      "epoch 7, loss 0.3686, train acc 0.870, test loss 0.3910, test acc 0.862\n",
      "epoch 8, loss 0.3577, train acc 0.874, test loss 0.3859, test acc 0.864\n",
      "epoch 9, loss 0.3475, train acc 0.878, test loss 0.4050, test acc 0.853\n",
      "epoch 10, loss 0.3409, train acc 0.880, test loss 0.3995, test acc 0.857\n",
      "epoch 11, loss 0.3346, train acc 0.882, test loss 0.3810, test acc 0.867\n",
      "epoch 12, loss 0.3290, train acc 0.885, test loss 0.3899, test acc 0.861\n",
      "epoch 13, loss 0.3211, train acc 0.886, test loss 0.4142, test acc 0.848\n",
      "epoch 14, loss 0.3173, train acc 0.888, test loss 0.3685, test acc 0.868\n",
      "epoch 15, loss 0.3121, train acc 0.889, test loss 0.3562, test acc 0.875\n",
      "epoch 16, loss 0.3059, train acc 0.892, test loss 0.3716, test acc 0.865\n",
      "epoch 17, loss 0.3039, train acc 0.892, test loss 0.3555, test acc 0.874\n",
      "epoch 18, loss 0.2986, train acc 0.893, test loss 0.3472, test acc 0.877\n",
      "epoch 19, loss 0.2944, train acc 0.896, test loss 0.3550, test acc 0.871\n",
      "epoch 20, loss 0.2916, train acc 0.897, test loss 0.4099, test acc 0.853\n",
      "epoch 21, loss 0.2884, train acc 0.897, test loss 0.3506, test acc 0.874\n",
      "epoch 22, loss 0.2853, train acc 0.898, test loss 0.3357, test acc 0.881\n",
      "epoch 23, loss 0.2820, train acc 0.900, test loss 0.3369, test acc 0.880\n",
      "epoch 24, loss 0.2791, train acc 0.900, test loss 0.3516, test acc 0.878\n",
      "epoch 25, loss 0.2747, train acc 0.903, test loss 0.3633, test acc 0.871\n",
      "epoch 26, loss 0.2733, train acc 0.902, test loss 0.3405, test acc 0.877\n",
      "epoch 27, loss 0.2694, train acc 0.903, test loss 0.3379, test acc 0.877\n",
      "epoch 28, loss 0.2672, train acc 0.906, test loss 0.4101, test acc 0.855\n",
      "epoch 29, loss 0.2647, train acc 0.907, test loss 0.3332, test acc 0.884\n",
      "epoch 30, loss 0.2619, train acc 0.908, test loss 0.3282, test acc 0.882\n",
      "epoch 31, loss 0.2598, train acc 0.909, test loss 0.4476, test acc 0.840\n",
      "epoch 32, loss 0.2576, train acc 0.909, test loss 0.3345, test acc 0.879\n",
      "epoch 33, loss 0.2548, train acc 0.909, test loss 0.3336, test acc 0.883\n",
      "epoch 34, loss 0.2529, train acc 0.911, test loss 0.3332, test acc 0.880\n",
      "epoch 35, loss 0.2500, train acc 0.912, test loss 0.3402, test acc 0.876\n",
      "epoch 36, loss 0.2472, train acc 0.912, test loss 0.3236, test acc 0.888\n",
      "epoch 37, loss 0.2464, train acc 0.913, test loss 0.3683, test acc 0.873\n",
      "epoch 38, loss 0.2450, train acc 0.914, test loss 0.3373, test acc 0.883\n",
      "epoch 39, loss 0.2413, train acc 0.915, test loss 0.3117, test acc 0.890\n",
      "epoch 40, loss 0.2402, train acc 0.914, test loss 0.3295, test acc 0.881\n",
      "epoch 41, loss 0.2380, train acc 0.916, test loss 0.3609, test acc 0.870\n",
      "epoch 42, loss 0.2361, train acc 0.917, test loss 0.3295, test acc 0.883\n",
      "epoch 43, loss 0.2334, train acc 0.918, test loss 0.3401, test acc 0.880\n",
      "epoch 44, loss 0.2320, train acc 0.918, test loss 0.3204, test acc 0.889\n",
      "epoch 45, loss 0.2294, train acc 0.919, test loss 0.3148, test acc 0.886\n",
      "epoch 46, loss 0.2288, train acc 0.919, test loss 0.3076, test acc 0.891\n",
      "epoch 47, loss 0.2259, train acc 0.920, test loss 0.3189, test acc 0.886\n",
      "epoch 48, loss 0.2255, train acc 0.921, test loss 0.3274, test acc 0.883\n",
      "epoch 49, loss 0.2238, train acc 0.921, test loss 0.3453, test acc 0.880\n",
      "epoch 50, loss 0.2215, train acc 0.922, test loss 0.3694, test acc 0.873\n",
      "training finished\n"
     ]
    }
   ],
   "source": [
    "train.train_student(\n",
    "    student, train_iter, test_iter, criterion_student, optimizer_student, device, num_epochs=50\n",
    ")"
   ]
  },
  {
   "cell_type": "code",
   "execution_count": 21,
   "metadata": {},
   "outputs": [
    {
     "name": "stdout",
     "output_type": "stream",
     "text": [
      "epoch 1, loss 2.5018, train acc 0.837, test loss 4.5353, test acc 0.825\n",
      "epoch 2, loss 2.5015, train acc 0.838, test loss 4.7478, test acc 0.825\n",
      "epoch 3, loss 2.5013, train acc 0.839, test loss 4.5536, test acc 0.824\n",
      "epoch 4, loss 2.5018, train acc 0.838, test loss 4.5484, test acc 0.824\n",
      "epoch 5, loss 2.5009, train acc 0.839, test loss 4.5500, test acc 0.825\n",
      "training finished\n"
     ]
    }
   ],
   "source": [
    "train.train_distill(\n",
    "    teacher,\n",
    "    student_distill,\n",
    "    optimizer_student_distill,\n",
    "    criterion_student_distill,\n",
    "    train_iter,\n",
    "    test_iter,\n",
    "    device,\n",
    "    num_epochs=5,\n",
    ")"
   ]
  }
 ],
 "metadata": {
  "kernelspec": {
   "display_name": "d2l",
   "language": "python",
   "name": "python3"
  },
  "language_info": {
   "codemirror_mode": {
    "name": "ipython",
    "version": 3
   },
   "file_extension": ".py",
   "mimetype": "text/x-python",
   "name": "python",
   "nbconvert_exporter": "python",
   "pygments_lexer": "ipython3",
   "version": "3.9.17"
  },
  "orig_nbformat": 4
 },
 "nbformat": 4,
 "nbformat_minor": 2
}
