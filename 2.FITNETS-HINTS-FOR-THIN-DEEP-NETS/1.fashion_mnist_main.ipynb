{
 "cells": [
  {
   "cell_type": "code",
   "execution_count": 1,
   "metadata": {},
   "outputs": [],
   "source": [
    "import torch\n",
    "import torchvision\n",
    "import torch.nn as nn\n",
    "import torch.optim as optim\n",
    "\n",
    "import data_loader\n",
    "import evaluate\n",
    "import models\n",
    "import train"
   ]
  },
  {
   "cell_type": "code",
   "execution_count": 2,
   "metadata": {},
   "outputs": [],
   "source": [
    "batch_size = 256\n",
    "train_iter, test_iter = data_loader.load_data_fashion_mnist(batch_size, resize=224)"
   ]
  },
  {
   "cell_type": "code",
   "execution_count": 3,
   "metadata": {},
   "outputs": [],
   "source": [
    "device = torch.device(\"cuda\" if torch.cuda.is_available() else \"cpu\")\n",
    "\n",
    "teacher = models.teacher5().to(device)\n",
    "student = models.FitNet1().to(device)"
   ]
  },
  {
   "cell_type": "code",
   "execution_count": null,
   "metadata": {},
   "outputs": [],
   "source": [
    "teacher_loss, teacher_acc = evaluate.evaluate(teacher, test_iter, device)\n",
    "print(f\"Test Loss: {teacher_loss}, Acc: {100. * teacher_acc}%\")"
   ]
  },
  {
   "cell_type": "code",
   "execution_count": 9,
   "metadata": {},
   "outputs": [
    {
     "name": "stdout",
     "output_type": "stream",
     "text": [
      "epoch 1, loss 0.1940, train acc 0.928, test loss 0.2637, test acc 0.907\n",
      "epoch 2, loss 0.1897, train acc 0.931, test loss 0.2672, test acc 0.903\n",
      "epoch 3, loss 0.1862, train acc 0.932, test loss 0.2712, test acc 0.906\n",
      "epoch 4, loss 0.1845, train acc 0.932, test loss 0.2632, test acc 0.909\n",
      "epoch 5, loss 0.1839, train acc 0.933, test loss 0.2731, test acc 0.904\n",
      "epoch 6, loss 0.1806, train acc 0.934, test loss 0.2668, test acc 0.908\n",
      "epoch 7, loss 0.1824, train acc 0.933, test loss 0.2651, test acc 0.905\n",
      "epoch 8, loss 0.1759, train acc 0.936, test loss 0.2706, test acc 0.901\n",
      "epoch 9, loss 0.1719, train acc 0.937, test loss 0.2682, test acc 0.907\n",
      "epoch 10, loss 0.1752, train acc 0.936, test loss 0.2563, test acc 0.910\n",
      "epoch 11, loss 0.1679, train acc 0.939, test loss 0.2541, test acc 0.910\n",
      "epoch 12, loss 0.1657, train acc 0.940, test loss 0.2519, test acc 0.913\n",
      "epoch 13, loss 0.1699, train acc 0.938, test loss 0.2566, test acc 0.908\n",
      "epoch 14, loss 0.1635, train acc 0.940, test loss 0.2498, test acc 0.913\n",
      "epoch 15, loss 0.1610, train acc 0.941, test loss 0.2461, test acc 0.914\n",
      "epoch 16, loss 0.1559, train acc 0.943, test loss 0.2548, test acc 0.911\n",
      "epoch 17, loss 0.1577, train acc 0.942, test loss 0.2449, test acc 0.915\n",
      "epoch 18, loss 0.1564, train acc 0.943, test loss 0.2508, test acc 0.912\n",
      "epoch 19, loss 0.1560, train acc 0.943, test loss 0.2573, test acc 0.910\n",
      "epoch 20, loss 0.1516, train acc 0.945, test loss 0.2554, test acc 0.910\n",
      "training finished\n"
     ]
    }
   ],
   "source": [
    "train.train_student(\n",
    "    teacher,\n",
    "    train_iter,\n",
    "    test_iter,\n",
    "    criterion=nn.CrossEntropyLoss(),\n",
    "    optimizer=optim.SGD(teacher.parameters(), lr=0.001, momentum=0.9),\n",
    "    device=device,\n",
    "    num_epochs=20,\n",
    ")"
   ]
  },
  {
   "cell_type": "code",
   "execution_count": 8,
   "metadata": {},
   "outputs": [
    {
     "name": "stdout",
     "output_type": "stream",
     "text": [
      "epoch 1, loss 0.0759, train acc 0.972, test loss 0.3060, test acc 0.913\n",
      "epoch 2, loss 0.0660, train acc 0.976, test loss 0.3398, test acc 0.911\n",
      "epoch 3, loss 0.0693, train acc 0.975, test loss 0.3274, test acc 0.912\n",
      "epoch 4, loss 0.0610, train acc 0.978, test loss 0.3654, test acc 0.910\n",
      "epoch 5, loss 0.0631, train acc 0.977, test loss 0.3634, test acc 0.913\n",
      "epoch 6, loss 0.0592, train acc 0.978, test loss 0.3612, test acc 0.913\n",
      "epoch 7, loss 0.0673, train acc 0.975, test loss 0.3287, test acc 0.915\n",
      "epoch 8, loss 0.0537, train acc 0.980, test loss 0.3497, test acc 0.911\n",
      "epoch 9, loss 0.0521, train acc 0.981, test loss 0.3814, test acc 0.912\n",
      "epoch 10, loss 0.0427, train acc 0.985, test loss 0.4104, test acc 0.911\n",
      "epoch 11, loss 0.0516, train acc 0.981, test loss 0.4043, test acc 0.909\n",
      "epoch 12, loss 0.0462, train acc 0.983, test loss 0.3865, test acc 0.913\n",
      "epoch 13, loss 0.0394, train acc 0.986, test loss 0.4446, test acc 0.912\n",
      "epoch 14, loss 0.0454, train acc 0.983, test loss 0.4030, test acc 0.913\n",
      "epoch 15, loss 0.0403, train acc 0.985, test loss 0.3841, test acc 0.911\n",
      "epoch 16, loss 0.0409, train acc 0.985, test loss 0.4205, test acc 0.918\n",
      "epoch 17, loss 0.0436, train acc 0.984, test loss 0.4327, test acc 0.915\n",
      "epoch 18, loss 0.0352, train acc 0.987, test loss 0.4310, test acc 0.913\n",
      "epoch 19, loss 0.0341, train acc 0.988, test loss 0.4243, test acc 0.917\n",
      "epoch 20, loss 0.0301, train acc 0.989, test loss 0.4707, test acc 0.919\n",
      "training finished\n"
     ]
    }
   ],
   "source": [
    "train.train_student(\n",
    "    student,\n",
    "    train_iter,\n",
    "    test_iter,\n",
    "    criterion=nn.CrossEntropyLoss(),\n",
    "    optimizer=optim.SGD(student.parameters(), lr=0.001, momentum=0.9),\n",
    "    device=device,\n",
    "    num_epochs=20,\n",
    ")"
   ]
  },
  {
   "cell_type": "code",
   "execution_count": null,
   "metadata": {},
   "outputs": [],
   "source": [
    "student = nn.Sequential(*list(student.children())[:5])"
   ]
  },
  {
   "cell_type": "code",
   "execution_count": null,
   "metadata": {},
   "outputs": [],
   "source": [
    "student[0] = nn.Conv2d(1, 64, kernel_size=7, stride=2, padding=3, bias=False)\n",
    "student"
   ]
  },
  {
   "cell_type": "code",
   "execution_count": null,
   "metadata": {},
   "outputs": [],
   "source": [
    "import torch.nn as nn\n",
    "\n",
    "\n",
    "def conv_block(in_channels, out_channels, kernel_size, stride, padding):\n",
    "    return nn.Sequential(\n",
    "        nn.Conv2d(\n",
    "            in_channels,\n",
    "            out_channels,\n",
    "            kernel_size=kernel_size,\n",
    "            stride=stride,\n",
    "            padding=padding,\n",
    "            bias=False,\n",
    "        ),\n",
    "        nn.BatchNorm2d(out_channels),\n",
    "        nn.ReLU(),\n",
    "    )\n",
    "\n",
    "\n",
    "class teacher5_big(nn.Module):\n",
    "    def __init__(self):\n",
    "        super(teacher5_big, self).__init__()\n",
    "        self.features = nn.Sequential(\n",
    "            conv_block(1, 128, kernel_size=7, stride=2, padding=3),\n",
    "            nn.MaxPool2d(kernel_size=3, stride=2, padding=1),\n",
    "            conv_block(128, 128, kernel_size=3, stride=1, padding=1),\n",
    "            nn.MaxPool2d(kernel_size=3, stride=2, padding=1),\n",
    "            conv_block(128, 128, kernel_size=3, stride=1, padding=1),\n",
    "            nn.MaxPool2d(kernel_size=8, stride=1, padding=0),\n",
    "        )\n",
    "        self.classifier = nn.Sequential(nn.Flatten(), nn.Linear(56448, 10))\n",
    "\n",
    "    def forward(self, x):\n",
    "        x = self.features(x)\n",
    "        x = self.classifier(x)\n",
    "        return x\n",
    "\n",
    "\n",
    "# 创建模型实例\n",
    "student = teacher5_big()"
   ]
  },
  {
   "cell_type": "code",
   "execution_count": null,
   "metadata": {},
   "outputs": [],
   "source": [
    "X = torch.rand(1, 1, 224, 224)\n",
    "student(X)"
   ]
  }
 ],
 "metadata": {
  "kernelspec": {
   "display_name": "corner",
   "language": "python",
   "name": "python3"
  },
  "language_info": {
   "codemirror_mode": {
    "name": "ipython",
    "version": 3
   },
   "file_extension": ".py",
   "mimetype": "text/x-python",
   "name": "python",
   "nbconvert_exporter": "python",
   "pygments_lexer": "ipython3",
   "version": "3.9.17"
  },
  "orig_nbformat": 4
 },
 "nbformat": 4,
 "nbformat_minor": 2
}
