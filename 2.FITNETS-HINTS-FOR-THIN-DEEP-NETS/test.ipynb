{
 "cells": [
  {
   "cell_type": "code",
   "execution_count": 9,
   "metadata": {},
   "outputs": [],
   "source": [
    "import torch\n",
    "import torchvision\n",
    "import data_loader"
   ]
  },
  {
   "cell_type": "code",
   "execution_count": 10,
   "metadata": {},
   "outputs": [],
   "source": [
    "resnet = torchvision.models.resnet18(pretrained=True)"
   ]
  },
  {
   "cell_type": "code",
   "execution_count": 11,
   "metadata": {},
   "outputs": [],
   "source": [
    "resnet.fc = torch.nn.Linear(in_features=512, out_features=10)"
   ]
  },
  {
   "cell_type": "code",
   "execution_count": 12,
   "metadata": {},
   "outputs": [],
   "source": [
    "resnet = resnet.to(\"cuda:0\")"
   ]
  },
  {
   "cell_type": "code",
   "execution_count": null,
   "metadata": {},
   "outputs": [],
   "source": [
    "import torch\n",
    "import torch.nn as nn\n",
    "import torchvision.models as models\n",
    "\n",
    "class ResNetPartial(nn.Module):\n",
    "    def __init__(self, original_resnet, num_layers_to_keep):\n",
    "        super(ResNetPartial, self).__init__()\n",
    "        self.num_layers_to_keep = num_layers_to_keep\n",
    "        self.partial_resnet = nn.Sequential(*list(original_resnet.children())[:num_layers_to_keep])\n",
    "\n",
    "    def forward(self, x):\n",
    "        return self.partial_resnet(x)\n",
    "\n",
    "# Load the original ResNet model\n",
    "resnet = models.resnet18(pretrained=True)\n",
    "\n",
    "# Number of layers to keep in the partial ResNet\n",
    "num_layers_to_keep = 6\n",
    "\n",
    "# Create the partial ResNet model with the desired number of layers\n",
    "partial_resnet = ResNetPartial(resnet, num_layers_to_keep)\n",
    "\n",
    "# Move the partial ResNet model to the desired device\n",
    "partial_resnet = partial_resnet.to(\"cuda:0\")\n",
    "\n",
    "# Create a random input tensor\n",
    "X = torch.randn(1, 3, 224, 224).to(\"cuda:0\")\n",
    "\n",
    "# Forward pass through the partial ResNet\n",
    "output = partial_resnet(X)\n",
    "print(\"Output shape:\", output.shape)\n"
   ]
  },
  {
   "cell_type": "code",
   "execution_count": null,
   "metadata": {},
   "outputs": [],
   "source": [
    "partial_resnet"
   ]
  },
  {
   "cell_type": "code",
   "execution_count": 13,
   "metadata": {},
   "outputs": [
    {
     "name": "stdout",
     "output_type": "stream",
     "text": [
      "Files already downloaded and verified\n",
      "Files already downloaded and verified\n"
     ]
    }
   ],
   "source": [
    "train_iter, test_iter = data_loader.load_data_cifar_10(batch_size=256, resize=224)"
   ]
  },
  {
   "cell_type": "code",
   "execution_count": 14,
   "metadata": {},
   "outputs": [],
   "source": [
    "# 定义损失函数和优化器\n",
    "criteria = torch.nn.CrossEntropyLoss()\n",
    "optimizer = torch.optim.Adam(resnet.parameters(), lr=1e-4)"
   ]
  },
  {
   "cell_type": "code",
   "execution_count": 15,
   "metadata": {},
   "outputs": [],
   "source": [
    "# 测试模型\n",
    "def test():\n",
    "    resnet.eval()\n",
    "    eval_loss = 0\n",
    "    eval_acc = 0\n",
    "    for inputs, labels in test_iter:\n",
    "        inputs = inputs.to(\"cuda:0\")\n",
    "        labels = labels.to(\"cuda:0\")\n",
    "        outputs = resnet(inputs)\n",
    "        loss = criteria(outputs, labels)\n",
    "        eval_loss += loss.item()\n",
    "        _, preds = torch.max(outputs, 1)\n",
    "        eval_acc += (preds == labels).float().mean()\n",
    "    return eval_loss / len(test_iter), eval_acc / len(test_iter)"
   ]
  },
  {
   "cell_type": "code",
   "execution_count": 16,
   "metadata": {},
   "outputs": [
    {
     "name": "stdout",
     "output_type": "stream",
     "text": [
      "epoch 1, loss 0.4090, train acc 0.869, test loss 0.2009, test acc 0.933\n",
      "epoch 2, loss 0.1621, train acc 0.944, test loss 0.2056, test acc 0.930\n",
      "epoch 3, loss 0.0795, train acc 0.973, test loss 0.1860, test acc 0.939\n",
      "epoch 4, loss 0.0472, train acc 0.984, test loss 0.2139, test acc 0.937\n",
      "epoch 5, loss 0.0376, train acc 0.987, test loss 0.2631, test acc 0.931\n",
      "epoch 6, loss 0.0209, train acc 0.993, test loss 0.2091, test acc 0.944\n",
      "epoch 7, loss 0.0186, train acc 0.994, test loss 0.2721, test acc 0.932\n",
      "epoch 8, loss 0.0227, train acc 0.992, test loss 0.2292, test acc 0.940\n",
      "epoch 9, loss 0.0231, train acc 0.992, test loss 0.2808, test acc 0.938\n",
      "epoch 10, loss 0.0131, train acc 0.996, test loss 0.2575, test acc 0.942\n",
      "training finished\n"
     ]
    }
   ],
   "source": [
    "# 训练模型\n",
    "num_epochs = 10\n",
    "for epoch in range(num_epochs):\n",
    "    runnning_loss = 0.0\n",
    "    running_acc = 0.0\n",
    "    for inputs, labels in train_iter:\n",
    "        inputs = inputs.to(\"cuda:0\")\n",
    "        labels = labels.to(\"cuda:0\")\n",
    "        outputs = resnet(inputs)\n",
    "        loss = criteria(outputs, labels)\n",
    "\n",
    "        optimizer.zero_grad()\n",
    "        loss.backward()\n",
    "        optimizer.step()\n",
    "\n",
    "        runnning_loss += loss.item()\n",
    "        _, preds = torch.max(outputs, 1)\n",
    "        running_acc += (preds == labels).float().mean()\n",
    "    eval_loss, eval_acc = test()\n",
    "    print(\"epoch %d, loss %.4f, train acc %.3f, test loss %.4f, test acc %.3f\" % (epoch + 1, runnning_loss / len(train_iter), running_acc / len(train_iter), eval_loss, eval_acc))\n",
    "    torch.save(resnet.state_dict(), f\"resnet18_epoch{epoch + 1}.pth\")\n",
    "\n",
    "print(\"training finished\")"
   ]
  }
 ],
 "metadata": {
  "kernelspec": {
   "display_name": "corner",
   "language": "python",
   "name": "python3"
  },
  "language_info": {
   "codemirror_mode": {
    "name": "ipython",
    "version": 3
   },
   "file_extension": ".py",
   "mimetype": "text/x-python",
   "name": "python",
   "nbconvert_exporter": "python",
   "pygments_lexer": "ipython3",
   "version": "3.9.17"
  },
  "orig_nbformat": 4
 },
 "nbformat": 4,
 "nbformat_minor": 2
}
