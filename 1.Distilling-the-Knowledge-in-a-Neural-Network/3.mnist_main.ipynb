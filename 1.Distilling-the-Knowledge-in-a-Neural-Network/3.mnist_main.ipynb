{
 "cells": [
  {
   "cell_type": "code",
   "execution_count": 1,
   "metadata": {},
   "outputs": [],
   "source": [
    "import torch\n",
    "import torchvision\n",
    "import torch.nn as nn\n",
    "import torch.optim as optim\n",
    "\n",
    "import model\n",
    "import data_loader\n",
    "import train\n",
    "import evaluate"
   ]
  },
  {
   "cell_type": "code",
   "execution_count": 2,
   "metadata": {},
   "outputs": [],
   "source": [
    "def weights_init(m):\n",
    "    if isinstance(m, nn.Linear):\n",
    "        nn.init.xavier_uniform_(m.weight.data)\n",
    "        nn.init.constant_(m.bias.data, 0.0)"
   ]
  },
  {
   "cell_type": "code",
   "execution_count": 3,
   "metadata": {},
   "outputs": [],
   "source": [
    "# load data\n",
    "batch_size = 256\n",
    "train_iter, test_iter = data_loader.load_data_MNIST(\n",
    "    batch_size=batch_size, resize=224\n",
    ")"
   ]
  },
  {
   "cell_type": "code",
   "execution_count": 4,
   "metadata": {},
   "outputs": [
    {
     "name": "stderr",
     "output_type": "stream",
     "text": [
      "/home/corner/.conda/envs/corner/lib/python3.9/site-packages/torchvision/models/_utils.py:208: UserWarning: The parameter 'pretrained' is deprecated since 0.13 and may be removed in the future, please use 'weights' instead.\n",
      "  warnings.warn(\n",
      "/home/corner/.conda/envs/corner/lib/python3.9/site-packages/torchvision/models/_utils.py:223: UserWarning: Arguments other than a weight enum or `None` for 'weights' are deprecated since 0.13 and may be removed in the future. The current behavior is equivalent to passing `weights=None`.\n",
      "  warnings.warn(msg)\n"
     ]
    },
    {
     "data": {
      "text/plain": [
       "Student(\n",
       "  (flatten): Flatten(start_dim=1, end_dim=-1)\n",
       "  (linear1): Linear(in_features=50176, out_features=1000, bias=True)\n",
       "  (relu): ReLU()\n",
       "  (dropout): Dropout(p=0.3, inplace=False)\n",
       "  (linear2): Linear(in_features=1000, out_features=10, bias=True)\n",
       ")"
      ]
     },
     "execution_count": 4,
     "metadata": {},
     "output_type": "execute_result"
    }
   ],
   "source": [
    "# Define teacher & stduent model, Move models and data to GPU, Initialize weights\n",
    "device = torch.device(\"cuda\" if torch.cuda.is_available() else \"cpu\")\n",
    "\n",
    "teacher = torchvision.models.resnet18(pretrained=False)\n",
    "teacher.conv1 = nn.Conv2d(1, 64, kernel_size=7, stride=2, padding=3, bias=False)\n",
    "teacher.fc = nn.Linear(512, 10)\n",
    "teacher.load_state_dict(torch.load(\"../models/resnet18_mnist.pth\"))\n",
    "teacher = teacher.to(device)\n",
    "\n",
    "student = model.Student().to(device)\n",
    "student_distill = model.Student().to(device)\n",
    "student.apply(weights_init)\n",
    "student_distill.apply(weights_init)"
   ]
  },
  {
   "cell_type": "code",
   "execution_count": 5,
   "metadata": {},
   "outputs": [],
   "source": [
    "# Define loss and optimizer\n",
    "criterion_student = nn.CrossEntropyLoss()\n",
    "criterion_student_distill = nn.CrossEntropyLoss()\n",
    "optimizer_student = optim.SGD(student.parameters(), lr=0.01)\n",
    "optimizer_student_distill = optim.SGD(student_distill.parameters(), lr=0.07)"
   ]
  },
  {
   "cell_type": "code",
   "execution_count": 6,
   "metadata": {},
   "outputs": [
    {
     "name": "stdout",
     "output_type": "stream",
     "text": [
      "Test Loss: 0.012864453472833404, Acc: 99.6484375%\n"
     ]
    }
   ],
   "source": [
    "teacher_loss, teacher_acc = evaluate.evaluate(teacher, test_iter, device)\n",
    "print(f\"Test Loss: {teacher_loss}, Acc: {100. * teacher_acc}%\")"
   ]
  },
  {
   "cell_type": "code",
   "execution_count": 7,
   "metadata": {},
   "outputs": [
    {
     "name": "stdout",
     "output_type": "stream",
     "text": [
      "epoch 1, loss 0.4129, train acc 0.885, test loss 0.2419, test acc 0.934\n",
      "epoch 2, loss 0.2244, train acc 0.939, test loss 0.1914, test acc 0.948\n",
      "epoch 3, loss 0.1844, train acc 0.950, test loss 0.1665, test acc 0.955\n",
      "epoch 4, loss 0.1598, train acc 0.957, test loss 0.1471, test acc 0.958\n",
      "epoch 5, loss 0.1432, train acc 0.961, test loss 0.1389, test acc 0.962\n",
      "epoch 6, loss 0.1300, train acc 0.965, test loss 0.1260, test acc 0.966\n",
      "epoch 7, loss 0.1196, train acc 0.968, test loss 0.1183, test acc 0.966\n",
      "epoch 8, loss 0.1112, train acc 0.971, test loss 0.1103, test acc 0.969\n",
      "epoch 9, loss 0.1045, train acc 0.972, test loss 0.1065, test acc 0.971\n",
      "epoch 10, loss 0.0984, train acc 0.974, test loss 0.1042, test acc 0.971\n",
      "training finished\n"
     ]
    }
   ],
   "source": [
    "train.train_student(\n",
    "    student, train_iter, test_iter, criterion_student, optimizer_student, device\n",
    ")"
   ]
  },
  {
   "cell_type": "code",
   "execution_count": 8,
   "metadata": {},
   "outputs": [
    {
     "name": "stdout",
     "output_type": "stream",
     "text": [
      "epoch 1, loss 2.0695, train acc 0.855, test loss 0.4842, test acc 0.914\n",
      "epoch 2, loss 1.9574, train acc 0.915, test loss 0.4444, test acc 0.931\n",
      "epoch 3, loss 1.9383, train acc 0.926, test loss 0.4166, test acc 0.934\n",
      "epoch 4, loss 1.9260, train acc 0.934, test loss 0.3841, test acc 0.944\n",
      "epoch 5, loss 1.9172, train acc 0.941, test loss 0.3507, test acc 0.949\n",
      "epoch 6, loss 1.9106, train acc 0.945, test loss 0.3277, test acc 0.950\n",
      "epoch 7, loss 1.9047, train acc 0.949, test loss 0.3132, test acc 0.953\n",
      "epoch 8, loss 1.9002, train acc 0.951, test loss 0.2987, test acc 0.956\n",
      "epoch 9, loss 1.8961, train acc 0.955, test loss 0.2846, test acc 0.958\n",
      "epoch 10, loss 1.8926, train acc 0.957, test loss 0.2714, test acc 0.959\n",
      "training finished\n"
     ]
    }
   ],
   "source": [
    "train.train_distill(\n",
    "    teacher,\n",
    "    student_distill,\n",
    "    optimizer_student_distill,\n",
    "    criterion_student_distill,\n",
    "    train_iter,\n",
    "    test_iter,\n",
    "    device,\n",
    ")"
   ]
  }
 ],
 "metadata": {
  "kernelspec": {
   "display_name": "d2l",
   "language": "python",
   "name": "python3"
  },
  "language_info": {
   "codemirror_mode": {
    "name": "ipython",
    "version": 3
   },
   "file_extension": ".py",
   "mimetype": "text/x-python",
   "name": "python",
   "nbconvert_exporter": "python",
   "pygments_lexer": "ipython3",
   "version": "3.9.17"
  },
  "orig_nbformat": 4
 },
 "nbformat": 4,
 "nbformat_minor": 2
}
