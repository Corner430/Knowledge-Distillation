{
 "cells": [
  {
   "cell_type": "code",
   "execution_count": 1,
   "metadata": {},
   "outputs": [],
   "source": [
    "import torch\n",
    "import torchvision\n",
    "import torch.nn as nn\n",
    "import torch.optim as optim\n",
    "\n",
    "import model\n",
    "import data_loader\n",
    "import train\n",
    "import evaluate"
   ]
  },
  {
   "cell_type": "code",
   "execution_count": 2,
   "metadata": {},
   "outputs": [],
   "source": [
    "def weights_init(m):\n",
    "    if isinstance(m, nn.Linear):\n",
    "        nn.init.xavier_uniform_(m.weight.data)\n",
    "        nn.init.constant_(m.bias.data, 0.0)"
   ]
  },
  {
   "cell_type": "code",
   "execution_count": 3,
   "metadata": {},
   "outputs": [],
   "source": [
    "# load data\n",
    "batch_size = 256\n",
    "train_iter, test_iter = data_loader.load_data_MNIST(\n",
    "    batch_size=batch_size, resize=224\n",
    ")"
   ]
  },
  {
   "cell_type": "code",
   "execution_count": 4,
   "metadata": {},
   "outputs": [
    {
     "name": "stderr",
     "output_type": "stream",
     "text": [
      "/home/corner/.conda/envs/corner/lib/python3.9/site-packages/torchvision/models/_utils.py:208: UserWarning: The parameter 'pretrained' is deprecated since 0.13 and may be removed in the future, please use 'weights' instead.\n",
      "  warnings.warn(\n",
      "/home/corner/.conda/envs/corner/lib/python3.9/site-packages/torchvision/models/_utils.py:223: UserWarning: Arguments other than a weight enum or `None` for 'weights' are deprecated since 0.13 and may be removed in the future. The current behavior is equivalent to passing `weights=None`.\n",
      "  warnings.warn(msg)\n"
     ]
    },
    {
     "data": {
      "text/plain": [
       "Student(\n",
       "  (flatten): Flatten(start_dim=1, end_dim=-1)\n",
       "  (linear1): Linear(in_features=50176, out_features=1000, bias=True)\n",
       "  (relu): ReLU()\n",
       "  (dropout): Dropout(p=0.3, inplace=False)\n",
       "  (linear2): Linear(in_features=1000, out_features=10, bias=True)\n",
       ")"
      ]
     },
     "execution_count": 4,
     "metadata": {},
     "output_type": "execute_result"
    }
   ],
   "source": [
    "# Define teacher & stduent model, Move models and data to GPU, Initialize weights\n",
    "device = torch.device(\"cuda\" if torch.cuda.is_available() else \"cpu\")\n",
    "\n",
    "teacher = torchvision.models.resnet18(pretrained=False)\n",
    "teacher.conv1 = nn.Conv2d(1, 64, kernel_size=7, stride=2, padding=3, bias=False)\n",
    "teacher.fc = nn.Linear(512, 10)\n",
    "teacher.load_state_dict(torch.load(\"../models/resnet18_mnist.pth\"))\n",
    "teacher = teacher.to(device)\n",
    "\n",
    "student = model.Student().to(device)\n",
    "student_distill = model.Student().to(device)\n",
    "student.apply(weights_init)\n",
    "student_distill.apply(weights_init)"
   ]
  },
  {
   "cell_type": "code",
   "execution_count": 10,
   "metadata": {},
   "outputs": [],
   "source": [
    "# Define loss and optimizer\n",
    "criterion_student = nn.CrossEntropyLoss()\n",
    "criterion_student_distill = nn.CrossEntropyLoss()\n",
    "optimizer_student = optim.SGD(student.parameters(), lr=0.01)\n",
    "optimizer_student_distill = optim.SGD(student_distill.parameters(), lr=0.1)"
   ]
  },
  {
   "cell_type": "code",
   "execution_count": 6,
   "metadata": {},
   "outputs": [
    {
     "name": "stdout",
     "output_type": "stream",
     "text": [
      "Test Loss: 0.012864453472833404, Acc: 99.6484375%\n"
     ]
    }
   ],
   "source": [
    "teacher_loss, teacher_acc = evaluate.evaluate(teacher, test_iter, device)\n",
    "print(f\"Test Loss: {teacher_loss}, Acc: {100. * teacher_acc}%\")"
   ]
  },
  {
   "cell_type": "code",
   "execution_count": 8,
   "metadata": {},
   "outputs": [
    {
     "name": "stdout",
     "output_type": "stream",
     "text": [
      "epoch 1, loss 0.4096, train acc 0.886, test loss 0.2366, test acc 0.937\n",
      "epoch 2, loss 0.2225, train acc 0.939, test loss 0.1860, test acc 0.948\n",
      "epoch 3, loss 0.1827, train acc 0.951, test loss 0.1644, test acc 0.953\n",
      "epoch 4, loss 0.1586, train acc 0.957, test loss 0.1431, test acc 0.959\n",
      "epoch 5, loss 0.1420, train acc 0.962, test loss 0.1331, test acc 0.963\n",
      "epoch 6, loss 0.1291, train acc 0.965, test loss 0.1237, test acc 0.965\n",
      "epoch 7, loss 0.1195, train acc 0.968, test loss 0.1166, test acc 0.968\n",
      "epoch 8, loss 0.1106, train acc 0.971, test loss 0.1088, test acc 0.969\n",
      "epoch 9, loss 0.1035, train acc 0.973, test loss 0.1040, test acc 0.971\n",
      "epoch 10, loss 0.0971, train acc 0.975, test loss 0.1004, test acc 0.972\n",
      "epoch 11, loss 0.0919, train acc 0.976, test loss 0.0991, test acc 0.972\n",
      "epoch 12, loss 0.0871, train acc 0.977, test loss 0.0935, test acc 0.972\n",
      "epoch 13, loss 0.0829, train acc 0.978, test loss 0.0910, test acc 0.974\n",
      "epoch 14, loss 0.0792, train acc 0.979, test loss 0.0891, test acc 0.974\n",
      "epoch 15, loss 0.0756, train acc 0.980, test loss 0.0847, test acc 0.975\n",
      "epoch 16, loss 0.0724, train acc 0.981, test loss 0.0823, test acc 0.977\n",
      "epoch 17, loss 0.0695, train acc 0.982, test loss 0.0808, test acc 0.977\n",
      "epoch 18, loss 0.0670, train acc 0.983, test loss 0.0799, test acc 0.978\n",
      "epoch 19, loss 0.0646, train acc 0.984, test loss 0.0769, test acc 0.979\n",
      "epoch 20, loss 0.0623, train acc 0.984, test loss 0.0763, test acc 0.978\n",
      "epoch 21, loss 0.0601, train acc 0.985, test loss 0.0747, test acc 0.979\n",
      "epoch 22, loss 0.0579, train acc 0.986, test loss 0.0738, test acc 0.978\n",
      "epoch 23, loss 0.0561, train acc 0.986, test loss 0.0709, test acc 0.979\n",
      "epoch 24, loss 0.0542, train acc 0.987, test loss 0.0709, test acc 0.979\n",
      "epoch 25, loss 0.0527, train acc 0.987, test loss 0.0707, test acc 0.979\n",
      "epoch 26, loss 0.0511, train acc 0.987, test loss 0.0699, test acc 0.980\n",
      "epoch 27, loss 0.0496, train acc 0.988, test loss 0.0674, test acc 0.980\n",
      "epoch 28, loss 0.0481, train acc 0.989, test loss 0.0690, test acc 0.980\n",
      "epoch 29, loss 0.0467, train acc 0.989, test loss 0.0678, test acc 0.980\n",
      "epoch 30, loss 0.0455, train acc 0.989, test loss 0.0667, test acc 0.980\n",
      "epoch 31, loss 0.0443, train acc 0.990, test loss 0.0666, test acc 0.981\n",
      "epoch 32, loss 0.0431, train acc 0.990, test loss 0.0664, test acc 0.980\n",
      "epoch 33, loss 0.0420, train acc 0.990, test loss 0.0644, test acc 0.981\n",
      "epoch 34, loss 0.0409, train acc 0.990, test loss 0.0636, test acc 0.981\n",
      "epoch 35, loss 0.0399, train acc 0.990, test loss 0.0633, test acc 0.981\n",
      "epoch 36, loss 0.0389, train acc 0.991, test loss 0.0619, test acc 0.982\n",
      "epoch 37, loss 0.0380, train acc 0.991, test loss 0.0630, test acc 0.982\n",
      "epoch 38, loss 0.0371, train acc 0.992, test loss 0.0623, test acc 0.981\n",
      "epoch 39, loss 0.0362, train acc 0.992, test loss 0.0607, test acc 0.983\n",
      "epoch 40, loss 0.0353, train acc 0.992, test loss 0.0606, test acc 0.982\n",
      "training finished\n"
     ]
    }
   ],
   "source": [
    "train.train_student(\n",
    "    student, train_iter, test_iter, criterion_student, optimizer_student, device, num_epochs=40\n",
    ")"
   ]
  },
  {
   "cell_type": "code",
   "execution_count": 11,
   "metadata": {},
   "outputs": [
    {
     "name": "stdout",
     "output_type": "stream",
     "text": [
      "epoch 1, loss 1.9034, train acc 0.950, test loss 0.3070, test acc 0.956\n",
      "epoch 2, loss 1.8971, train acc 0.954, test loss 0.2898, test acc 0.957\n",
      "epoch 3, loss 1.8929, train acc 0.957, test loss 0.2691, test acc 0.960\n",
      "epoch 4, loss 1.8890, train acc 0.960, test loss 0.2592, test acc 0.962\n",
      "epoch 5, loss 1.8855, train acc 0.962, test loss 0.2475, test acc 0.964\n",
      "epoch 6, loss 1.8822, train acc 0.964, test loss 0.2331, test acc 0.965\n",
      "epoch 7, loss 1.8799, train acc 0.966, test loss 0.2228, test acc 0.967\n",
      "epoch 8, loss 1.8769, train acc 0.968, test loss 0.2179, test acc 0.967\n",
      "epoch 9, loss 1.8752, train acc 0.969, test loss 0.2062, test acc 0.969\n",
      "epoch 10, loss 1.8729, train acc 0.971, test loss 0.1998, test acc 0.971\n",
      "epoch 11, loss 1.8715, train acc 0.972, test loss 0.2031, test acc 0.969\n",
      "epoch 12, loss 1.8700, train acc 0.973, test loss 0.1831, test acc 0.973\n",
      "epoch 13, loss 1.8683, train acc 0.974, test loss 0.1824, test acc 0.972\n",
      "epoch 14, loss 1.8666, train acc 0.976, test loss 0.1759, test acc 0.973\n",
      "epoch 15, loss 1.8656, train acc 0.976, test loss 0.1728, test acc 0.975\n",
      "epoch 16, loss 1.8644, train acc 0.977, test loss 0.1666, test acc 0.975\n",
      "epoch 17, loss 1.8631, train acc 0.978, test loss 0.1697, test acc 0.975\n",
      "epoch 18, loss 1.8622, train acc 0.978, test loss 0.1645, test acc 0.975\n",
      "epoch 19, loss 1.8610, train acc 0.979, test loss 0.1623, test acc 0.975\n",
      "epoch 20, loss 1.8604, train acc 0.980, test loss 0.1595, test acc 0.976\n",
      "epoch 21, loss 1.8592, train acc 0.981, test loss 0.1594, test acc 0.976\n",
      "epoch 22, loss 1.8588, train acc 0.981, test loss 0.1591, test acc 0.976\n",
      "epoch 23, loss 1.8581, train acc 0.981, test loss 0.1518, test acc 0.977\n",
      "epoch 24, loss 1.8571, train acc 0.982, test loss 0.1524, test acc 0.977\n",
      "epoch 25, loss 1.8568, train acc 0.982, test loss 0.1496, test acc 0.977\n",
      "epoch 26, loss 1.8559, train acc 0.983, test loss 0.1431, test acc 0.977\n",
      "epoch 27, loss 1.8555, train acc 0.983, test loss 0.1437, test acc 0.977\n",
      "epoch 28, loss 1.8551, train acc 0.983, test loss 0.1399, test acc 0.978\n",
      "epoch 29, loss 1.8547, train acc 0.984, test loss 0.1387, test acc 0.979\n",
      "epoch 30, loss 1.8543, train acc 0.984, test loss 0.1453, test acc 0.978\n",
      "epoch 31, loss 1.8536, train acc 0.984, test loss 0.1379, test acc 0.978\n",
      "epoch 32, loss 1.8532, train acc 0.984, test loss 0.1426, test acc 0.979\n",
      "epoch 33, loss 1.8526, train acc 0.985, test loss 0.1388, test acc 0.979\n",
      "epoch 34, loss 1.8521, train acc 0.985, test loss 0.1334, test acc 0.979\n",
      "epoch 35, loss 1.8518, train acc 0.985, test loss 0.1327, test acc 0.980\n",
      "epoch 36, loss 1.8512, train acc 0.986, test loss 0.1416, test acc 0.978\n",
      "epoch 37, loss 1.8510, train acc 0.986, test loss 0.1323, test acc 0.979\n",
      "epoch 38, loss 1.8510, train acc 0.986, test loss 0.1366, test acc 0.979\n",
      "epoch 39, loss 1.8500, train acc 0.987, test loss 0.1320, test acc 0.981\n",
      "epoch 40, loss 1.8501, train acc 0.987, test loss 0.1275, test acc 0.981\n",
      "epoch 41, loss 1.8492, train acc 0.987, test loss 0.1273, test acc 0.980\n",
      "epoch 42, loss 1.8491, train acc 0.987, test loss 0.1297, test acc 0.981\n",
      "epoch 43, loss 1.8489, train acc 0.987, test loss 0.1271, test acc 0.981\n",
      "epoch 44, loss 1.8482, train acc 0.988, test loss 0.1272, test acc 0.981\n",
      "epoch 45, loss 1.8480, train acc 0.988, test loss 0.1288, test acc 0.982\n",
      "epoch 46, loss 1.8479, train acc 0.988, test loss 0.1266, test acc 0.982\n",
      "epoch 47, loss 1.8477, train acc 0.988, test loss 0.1233, test acc 0.981\n",
      "epoch 48, loss 1.8475, train acc 0.989, test loss 0.1241, test acc 0.982\n",
      "epoch 49, loss 1.8471, train acc 0.988, test loss 0.1232, test acc 0.982\n",
      "epoch 50, loss 1.8469, train acc 0.989, test loss 0.1223, test acc 0.982\n",
      "epoch 51, loss 1.8468, train acc 0.989, test loss 0.1230, test acc 0.982\n",
      "epoch 52, loss 1.8462, train acc 0.989, test loss 0.1236, test acc 0.982\n",
      "epoch 53, loss 1.8465, train acc 0.989, test loss 0.1201, test acc 0.982\n",
      "epoch 54, loss 1.8460, train acc 0.989, test loss 0.1187, test acc 0.983\n",
      "epoch 55, loss 1.8457, train acc 0.990, test loss 0.1196, test acc 0.983\n",
      "epoch 56, loss 1.8455, train acc 0.990, test loss 0.1207, test acc 0.982\n",
      "epoch 57, loss 1.8454, train acc 0.990, test loss 0.1175, test acc 0.983\n",
      "epoch 58, loss 1.8452, train acc 0.990, test loss 0.1177, test acc 0.983\n",
      "epoch 59, loss 1.8447, train acc 0.990, test loss 0.1184, test acc 0.983\n",
      "epoch 60, loss 1.8450, train acc 0.990, test loss 0.1182, test acc 0.983\n",
      "training finished\n"
     ]
    }
   ],
   "source": [
    "train.train_distill(\n",
    "    teacher,\n",
    "    student_distill,\n",
    "    optimizer_student_distill,\n",
    "    criterion_student_distill,\n",
    "    train_iter,\n",
    "    test_iter,\n",
    "    device,\n",
    "    num_epochs=60,\n",
    ")"
   ]
  }
 ],
 "metadata": {
  "kernelspec": {
   "display_name": "d2l",
   "language": "python",
   "name": "python3"
  },
  "language_info": {
   "codemirror_mode": {
    "name": "ipython",
    "version": 3
   },
   "file_extension": ".py",
   "mimetype": "text/x-python",
   "name": "python",
   "nbconvert_exporter": "python",
   "pygments_lexer": "ipython3",
   "version": "3.9.17"
  },
  "orig_nbformat": 4
 },
 "nbformat": 4,
 "nbformat_minor": 2
}
